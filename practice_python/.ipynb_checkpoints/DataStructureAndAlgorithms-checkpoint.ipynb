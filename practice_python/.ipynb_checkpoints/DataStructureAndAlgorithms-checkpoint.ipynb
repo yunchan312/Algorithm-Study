{
 "cells": [
  {
   "cell_type": "code",
   "execution_count": 16,
   "metadata": {},
   "outputs": [],
   "source": [
    "poem_BobDylan = '''\n",
    "Mama, take this badge off of me.\n",
    "I can't use it anymore.\n",
    "It's gettin' dark, too dark to see.\n",
    "I feel I'm knockin' on Heaven's door.\n",
    "knock knock knockin' on Heaven's door.\n",
    "Mama, put my guns in the ground.\n",
    "I can't shoot them anymore.\n",
    "That long black cloud is comin' down.\n",
    "I feel I'm knockin' on Heaven's door.\n",
    "knock knock knockin' on Heaven's door.'''"
   ]
  },
  {
   "cell_type": "code",
   "execution_count": 67,
   "metadata": {},
   "outputs": [
    {
     "data": {
      "text/plain": [
       "{'k': 2}"
      ]
     },
     "execution_count": 67,
     "metadata": {},
     "output_type": "execute_result"
    }
   ],
   "source": [
    "d = {}\n",
    "\n",
    "d['k'] = 1\n",
    "\n",
    "d['k'] += 1\n",
    "\n",
    "d"
   ]
  },
  {
   "cell_type": "code",
   "execution_count": 93,
   "metadata": {},
   "outputs": [
    {
     "name": "stdout",
     "output_type": "stream",
     "text": [
      "Full document: \n",
      "Mama, take this badge off of me.\n",
      "I can't use it anymore.\n",
      "It's gettin' dark, too dark to see.\n",
      "I feel I'm knockin' on Heaven's door.\n",
      "knock knock knockin' on Heaven's door.\n",
      "Mama, put my guns in the ground.\n",
      "I can't shoot them anymore.\n",
      "That long black cloud is comin' down.\n",
      "I feel I'm knockin' on Heaven's door.\n",
      "knock knock knockin' on Heaven's door.\n",
      "M --> 2\n",
      "a --> 18\n",
      "m --> 10\n",
      "t --> 15\n",
      "k --> 20\n",
      "e --> 23\n",
      "h --> 5\n",
      "i --> 10\n",
      "s --> 11\n",
      "b --> 2\n",
      "d --> 10\n",
      "g --> 5\n",
      "o --> 34\n",
      "f --> 5\n",
      "I --> 7\n",
      "c --> 13\n",
      "n --> 31\n",
      "u --> 5\n",
      "y --> 3\n",
      "r --> 9\n",
      "l --> 5\n",
      "H --> 4\n",
      "v --> 4\n",
      "p --> 1\n",
      "T --> 1\n",
      "w --> 1\n",
      "The mostly used letter in this poem is: o\n"
     ]
    }
   ],
   "source": [
    "def countChar_dictionary(poem):\n",
    "    poem = (poem.replace(' ', ''))\n",
    "    poemInfo_inDict = {}\n",
    "    \n",
    "    for c in poem:\n",
    "        if c.isalpha():\n",
    "            if c in poemInfo_inDict.keys():\n",
    "                poemInfo_inDict[c] += 1\n",
    "            else:\n",
    "                poemInfo_inDict[c] = 1\n",
    "            \n",
    "    temp = (max(poemInfo_inDict.values()))\n",
    "    for char, count in poemInfo_inDict.items():\n",
    "        if count == temp:\n",
    "            poemInfo_inDict['most'] = char\n",
    "            break\n",
    "\n",
    "    return poemInfo_inDict\n",
    "\n",
    "if __name__ == \"__main__\":\n",
    "    print('Full document:', poem_BobDylan)\n",
    "    poem_Inform = countChar_dictionary(poem_BobDylan)\n",
    "    for k, v in poem_Inform.items():\n",
    "        if k != 'most':\n",
    "            print(k, '-->', v)\n",
    "    print('The mostly used letter in this poem is:', poem_Inform['most'])"
   ]
  },
  {
   "cell_type": "code",
   "execution_count": null,
   "metadata": {},
   "outputs": [],
   "source": []
  },
  {
   "cell_type": "code",
   "execution_count": null,
   "metadata": {},
   "outputs": [],
   "source": []
  }
 ],
 "metadata": {
  "kernelspec": {
   "display_name": "Python 3 (ipykernel)",
   "language": "python",
   "name": "python3"
  },
  "language_info": {
   "codemirror_mode": {
    "name": "ipython",
    "version": 3
   },
   "file_extension": ".py",
   "mimetype": "text/x-python",
   "name": "python",
   "nbconvert_exporter": "python",
   "pygments_lexer": "ipython3",
   "version": "3.12.4"
  }
 },
 "nbformat": 4,
 "nbformat_minor": 4
}
