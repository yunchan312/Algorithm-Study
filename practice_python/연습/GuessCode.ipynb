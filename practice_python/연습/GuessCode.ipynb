{
 "cells": [
  {
   "cell_type": "code",
   "execution_count": null,
   "metadata": {},
   "outputs": [],
   "source": [
    "import itertools as iter\n",
    "\n",
    "def solution(n, q, ans):\n",
    "    candidates = [i for i in range(1, n+1)]\n",
    "    # i) 0개를 맞췄다면 해당하는 코드들은 후보에서 삭제\n",
    "    while True:\n",
    "        if 0 in ans:\n",
    "            z = ans.index(0)\n",
    "            \n",
    "            for qq in (q[z]):\n",
    "                candidates.remove(qq)\n",
    "        else: break\n",
    "\n",
    "    # ii) 가장 많이 맞춘 리스트에서 경우의 수를 구함\n",
    "    mIdx = ans.index(max(ans))\n",
    "    codeStd = list(iter.combinations(q[mIdx], ans[mIdx]))\n",
    "    for qq in q[mIdx]:\n",
    "            if qq in candidates:\n",
    "                candidates.remove(qq)\n",
    "    codeStd = [list(s) for s in codeStd]\n",
    "    print(codeStd)\n",
    "    print('\\n')\n",
    "    # q[mIdx] = std\n",
    "    \n",
    "    for std in codeStd:\n",
    "        temp = []\n",
    "        for que in q:\n",
    "            que = list(set(que)-set(std))\n",
    "            que = list(set(que)-set(q[mIdx]))\n",
    "            temp.append(que)\n",
    "        print(temp, end='\\n')"
   ]
  },
  {
   "cell_type": "code",
   "execution_count": 363,
   "metadata": {},
   "outputs": [],
   "source": [
    "def solution(n, q, ans):\n",
    "    couples = list(zip(ans, q))\n",
    "    answer = 0\n",
    "    code = []\n",
    "    combis = []\n",
    "    for a, que in couples:\n",
    "        combis.append(list(iter.combinations(que,a)))\n",
    "    print('combis =',combis)\n",
    "    result = []\n",
    "    for i in combis[0]:\n",
    "        for j in combis[1]:\n",
    "            for k in combis[2]:\n",
    "                for l in combis[3]:\n",
    "                    for m in combis[4]:\n",
    "                        temp = []\n",
    "                        temp.extend(i)\n",
    "                        temp.extend(j)\n",
    "                        temp.extend(k)\n",
    "                        temp.extend(l)\n",
    "                        temp.extend(m)\n",
    "                        if (len(list(set(temp)))) == 5: result.append((set(temp)))\n",
    "    print('result =', (result))\n",
    "    for r in result:\n",
    "        if r not in code:\n",
    "            code.append(r)\n",
    "            answer += 1\n",
    "    print(answer)\n"
   ]
  },
  {
   "cell_type": "code",
   "execution_count": 366,
   "metadata": {},
   "outputs": [],
   "source": [
    "from itertools import combinations\n",
    "\n",
    "def solution(n, q, ans):\n",
    "    mb, final = [],[]\n",
    "\n",
    "    l = [i for i in range(1,n+1)]\n",
    "\n",
    "    for i in combinations(l,5):\n",
    "        mb.append(i)\n",
    "\n",
    "    for j in mb:\n",
    "        if all(len(set(j).intersection(set(q[k]))) == ans[k] for k in range(len(q))):\n",
    "            final.append(j)\n",
    "\n",
    "\n",
    "    return len(final)"
   ]
  },
  {
   "cell_type": "code",
   "execution_count": 376,
   "metadata": {},
   "outputs": [],
   "source": [
    "import itertools as iter\n",
    "\n",
    "def solution(n, q, ans):\n",
    "    numbers = [i for i in range(1, n+1)]\n",
    "    possibleCodes = list(iter.combinations(numbers, 5))\n",
    "    answer = 0    \n",
    "\n",
    "    for pc in possibleCodes:\n",
    "        if all(len(set(pc).intersection(set(q[k]))) == ans[k] for k in range(len(q))):\n",
    "            answer +=1\n",
    "    \n",
    "    return answer\n"
   ]
  },
  {
   "cell_type": "code",
   "execution_count": 377,
   "metadata": {},
   "outputs": [
    {
     "data": {
      "text/plain": [
       "3"
      ]
     },
     "execution_count": 377,
     "metadata": {},
     "output_type": "execute_result"
    }
   ],
   "source": [
    "solution(10, [[1, 2, 3, 4, 5], [6, 7, 8, 9, 10], [3, 7, 8, 9, 10], [2, 5, 7, 9, 10], [3, 4, 5, 6, 7]], [2,3,4,3,3])"
   ]
  },
  {
   "cell_type": "code",
   "execution_count": 378,
   "metadata": {},
   "outputs": [
    {
     "data": {
      "text/plain": [
       "5"
      ]
     },
     "execution_count": 378,
     "metadata": {},
     "output_type": "execute_result"
    }
   ],
   "source": [
    "solution(15, [[2, 3, 9, 12, 13], [1, 4, 6, 7, 9], [1, 2, 8, 10, 12], [6, 7, 11, 13, 15], [1, 4, 10, 11, 14]], [2,1,3,0,1])"
   ]
  },
  {
   "cell_type": "code",
   "execution_count": 282,
   "metadata": {},
   "outputs": [
    {
     "name": "stdout",
     "output_type": "stream",
     "text": [
      "[1, 2, 3, 4]\n"
     ]
    }
   ],
   "source": [
    "a = [(1,2),(2,3),(3,4)]\n",
    "temp = []\n",
    "for i in a:\n",
    "    temp.extend(i)\n",
    "print(list(set(temp)))"
   ]
  },
  {
   "cell_type": "code",
   "execution_count": 358,
   "metadata": {},
   "outputs": [
    {
     "name": "stdout",
     "output_type": "stream",
     "text": [
      "fuck\n"
     ]
    }
   ],
   "source": [
    "a = [1,2,3]\n",
    "b = [[1,2,3]]\n",
    "\n",
    "if a in b:\n",
    "    print(\"fuck\")"
   ]
  },
  {
   "cell_type": "code",
   "execution_count": null,
   "metadata": {},
   "outputs": [],
   "source": []
  }
 ],
 "metadata": {
  "kernelspec": {
   "display_name": "Python 3 (ipykernel)",
   "language": "python",
   "name": "python3"
  },
  "language_info": {
   "codemirror_mode": {
    "name": "ipython",
    "version": 3
   },
   "file_extension": ".py",
   "mimetype": "text/x-python",
   "name": "python",
   "nbconvert_exporter": "python",
   "pygments_lexer": "ipython3",
   "version": "3.12.4"
  }
 },
 "nbformat": 4,
 "nbformat_minor": 2
}
