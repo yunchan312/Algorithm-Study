{
 "cells": [
  {
   "cell_type": "markdown",
   "metadata": {},
   "source": [
    "## 획기적인 방법이나 시간초과가 났음 히잉"
   ]
  },
  {
   "cell_type": "code",
   "execution_count": null,
   "metadata": {},
   "outputs": [
    {
     "name": "stdout",
     "output_type": "stream",
     "text": [
      "0 1\n",
      "41.18176 sec\n"
     ]
    }
   ],
   "source": [
    "\n",
    "\n",
    "def FiboCount(n):\n",
    "    if n == 0: \n",
    "        return 1, 0\n",
    "    elif n == 1:\n",
    "        return 0, 1\n",
    "    else:\n",
    "        z1, o1 = FiboCount(n-1)\n",
    "        z2, o2 = FiboCount(n-2)\n",
    "        return z1+z2, o1+o2\n",
    "\n",
    "times = int(input())\n",
    "\n",
    "for _ in range(times):\n",
    "    target = int(input())\n",
    "    ans = FiboCount(target)\n",
    "    print(ans[0], ans[1])\n",
    "\n"
   ]
  },
  {
   "cell_type": "code",
   "execution_count": 6,
   "metadata": {},
   "outputs": [
    {
     "data": {
      "text/plain": [
       "(5, 8)"
      ]
     },
     "execution_count": 6,
     "metadata": {},
     "output_type": "execute_result"
    }
   ],
   "source": [
    "FiboCount(6)"
   ]
  },
  {
   "cell_type": "markdown",
   "metadata": {},
   "source": [
    "#### 그래서 반복문을 사용해 보겟음"
   ]
  },
  {
   "cell_type": "markdown",
   "metadata": {},
   "source": [
    "DP를 사용해서 했더니 풀려버림"
   ]
  },
  {
   "cell_type": "code",
   "execution_count": 19,
   "metadata": {},
   "outputs": [
    {
     "name": "stdout",
     "output_type": "stream",
     "text": [
      "5 8\n",
      "10946 17711\n"
     ]
    }
   ],
   "source": [
    "from collections import deque as dq\n",
    "\n",
    "times = int(input())\n",
    "\n",
    "for _ in range(times):\n",
    "    target = int(input())\n",
    "    if target == 0:\n",
    "        print(1, 0)\n",
    "    elif target == 1:\n",
    "        print(0, 1)\n",
    "    else:\n",
    "        zz = 1\n",
    "        z = 0\n",
    "        oo = 0\n",
    "        o = 1\n",
    "        for t in range(target-1):\n",
    "            tempZ = zz\n",
    "            tempO = oo\n",
    "            zz = z\n",
    "            oo = o\n",
    "            z = tempZ + zz\n",
    "            o = tempO + oo\n",
    "        print(z, o)\n"
   ]
  },
  {
   "cell_type": "code",
   "execution_count": null,
   "metadata": {},
   "outputs": [],
   "source": []
  }
 ],
 "metadata": {
  "kernelspec": {
   "display_name": "Python 3 (ipykernel)",
   "language": "python",
   "name": "python3"
  },
  "language_info": {
   "codemirror_mode": {
    "name": "ipython",
    "version": 3
   },
   "file_extension": ".py",
   "mimetype": "text/x-python",
   "name": "python",
   "nbconvert_exporter": "python",
   "pygments_lexer": "ipython3",
   "version": "3.12.4"
  }
 },
 "nbformat": 4,
 "nbformat_minor": 2
}
