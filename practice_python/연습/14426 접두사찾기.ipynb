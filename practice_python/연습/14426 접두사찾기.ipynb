{
 "cells": [
  {
   "cell_type": "markdown",
   "metadata": {},
   "source": [
    "### 개같이 망함 (시간초과)"
   ]
  },
  {
   "cell_type": "code",
   "execution_count": null,
   "metadata": {},
   "outputs": [
    {
     "name": "stdout",
     "output_type": "stream",
     "text": [
      "7\n"
     ]
    }
   ],
   "source": [
    "N, M = map(int, input().split(\" \"))\n",
    "\n",
    "lines = []\n",
    "for _ in range(N):\n",
    "    lines.append(input())\n",
    "count = 0\n",
    "for _ in range(M):\n",
    "    prevSub = \"\"\n",
    "    subString = input()\n",
    "    for line in lines:\n",
    "        if subString in line:\n",
    "            if line.split(subString)[0] == '' and prevSub != subString:\n",
    "                count += 1\n",
    "                prevSub = subString\n",
    "\n",
    "\n",
    "print(count)\n"
   ]
  },
  {
   "cell_type": "markdown",
   "metadata": {},
   "source": [
    "### 61퍼까지 갔다가 시간초과"
   ]
  },
  {
   "cell_type": "code",
   "execution_count": null,
   "metadata": {},
   "outputs": [],
   "source": [
    "N, M = map(int, input().split(\" \"))\n",
    "\n",
    "lines = []\n",
    "for _ in range(N):\n",
    "    lines.append(input())\n",
    "\n",
    "count = 0\n",
    "for _ in range(M):\n",
    "    subString = input()\n",
    "    for line in lines:\n",
    "        if line.startswith(subString):\n",
    "            count += 1\n",
    "            break\n",
    "        \n",
    "\n",
    "print(count)"
   ]
  },
  {
   "cell_type": "markdown",
   "metadata": {},
   "source": [
    "### 3트(5%, 시간초과)"
   ]
  },
  {
   "cell_type": "code",
   "execution_count": 37,
   "metadata": {},
   "outputs": [
    {
     "ename": "ValueError",
     "evalue": "invalid literal for int() with base 10: ''",
     "output_type": "error",
     "traceback": [
      "\u001b[0;31m---------------------------------------------------------------------------\u001b[0m",
      "\u001b[0;31mValueError\u001b[0m                                Traceback (most recent call last)",
      "Cell \u001b[0;32mIn[37], line 1\u001b[0m\n\u001b[0;32m----> 1\u001b[0m N, M \u001b[38;5;241m=\u001b[39m \u001b[38;5;28mmap\u001b[39m(\u001b[38;5;28mint\u001b[39m, \u001b[38;5;28minput\u001b[39m()\u001b[38;5;241m.\u001b[39msplit(\u001b[38;5;124m\"\u001b[39m\u001b[38;5;124m \u001b[39m\u001b[38;5;124m\"\u001b[39m))\n\u001b[1;32m      3\u001b[0m lines \u001b[38;5;241m=\u001b[39m []\n\u001b[1;32m      4\u001b[0m \u001b[38;5;28;01mfor\u001b[39;00m _ \u001b[38;5;129;01min\u001b[39;00m \u001b[38;5;28mrange\u001b[39m(N):\n",
      "\u001b[0;31mValueError\u001b[0m: invalid literal for int() with base 10: ''"
     ]
    }
   ],
   "source": [
    "N, M = map(int, input().split(\" \"))\n",
    "\n",
    "lines = []\n",
    "for _ in range(N):\n",
    "    lines.append(input())\n",
    "\n",
    "count = 0\n",
    "for _ in range(M):\n",
    "    subString = input()\n",
    "    for line in lines:\n",
    "        if line.find(subString) == 0:\n",
    "            count += 1\n",
    "            break\n",
    "        \n",
    "\n",
    "print(count)"
   ]
  },
  {
   "cell_type": "markdown",
   "metadata": {},
   "source": [
    "##### 구글링 결과, 하나씩 비교는 애초에 안될 것 같다.\n",
    "그래서 찾은 방법이 바로 **사전식 배열 비교**\n",
    "\n",
    "## 정답!!"
   ]
  },
  {
   "cell_type": "code",
   "execution_count": null,
   "metadata": {},
   "outputs": [],
   "source": [
    "# import sys\n",
    "# input = sys.stdin.readline\n",
    "\n",
    "N, M = map(int, input().split(\" \"))\n",
    "\n",
    "lines = []\n",
    "for _ in range(N):\n",
    "    lines.append(input().strip())\n",
    "lines.sort()\n",
    "count = 0\n",
    "subStrings = []\n",
    "for m in range(M):\n",
    "    subString = input().strip()\n",
    "    subStrings.append(subString)\n",
    "subStrings.sort()\n",
    "n,m = 0, 0\n",
    "while n<N and m<M:\n",
    "    if lines[n].startswith(subStrings[m]):\n",
    "        count += 1\n",
    "        m += 1\n",
    "        continue\n",
    "    elif lines[n] > subStrings[m]:\n",
    "        m += 1\n",
    "        continue\n",
    "    elif lines[n] < subStrings[m]:\n",
    "        n += 1\n",
    "        continue\n",
    "print(count)"
   ]
  }
 ],
 "metadata": {
  "kernelspec": {
   "display_name": "Python 3 (ipykernel)",
   "language": "python",
   "name": "python3"
  },
  "language_info": {
   "codemirror_mode": {
    "name": "ipython",
    "version": 3
   },
   "file_extension": ".py",
   "mimetype": "text/x-python",
   "name": "python",
   "nbconvert_exporter": "python",
   "pygments_lexer": "ipython3",
   "version": "3.12.4"
  }
 },
 "nbformat": 4,
 "nbformat_minor": 2
}
