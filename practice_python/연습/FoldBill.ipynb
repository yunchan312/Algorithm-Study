{
 "cells": [
  {
   "cell_type": "code",
   "execution_count": 7,
   "metadata": {},
   "outputs": [],
   "source": [
    "def solution(wallet, bill):\n",
    "    answer = 0\n",
    "    while(not isPossible(wallet, bill)): \n",
    "        bill[bill.index(max(bill))] //= 2\n",
    "        answer += 1\n",
    "    \n",
    "    return answer\n",
    "\n",
    "def isPossible(wallet, bill):\n",
    "    #가로로 비교\n",
    "    if wallet[0] >= bill[0] and wallet[1] >= bill[1]: return True\n",
    "    #세로로 비교\n",
    "    elif wallet[0] >= bill [1] and wallet[1] >= bill[0]: return True\n",
    "    else: return False"
   ]
  },
  {
   "cell_type": "code",
   "execution_count": 8,
   "metadata": {},
   "outputs": [
    {
     "data": {
      "text/plain": [
       "1"
      ]
     },
     "execution_count": 8,
     "metadata": {},
     "output_type": "execute_result"
    }
   ],
   "source": [
    "solution([30, 15],\t[26, 17])"
   ]
  },
  {
   "cell_type": "code",
   "execution_count": null,
   "metadata": {},
   "outputs": [],
   "source": []
  }
 ],
 "metadata": {
  "kernelspec": {
   "display_name": "Python 3 (ipykernel)",
   "language": "python",
   "name": "python3"
  },
  "language_info": {
   "codemirror_mode": {
    "name": "ipython",
    "version": 3
   },
   "file_extension": ".py",
   "mimetype": "text/x-python",
   "name": "python",
   "nbconvert_exporter": "python",
   "pygments_lexer": "ipython3",
   "version": "3.12.4"
  }
 },
 "nbformat": 4,
 "nbformat_minor": 2
}
