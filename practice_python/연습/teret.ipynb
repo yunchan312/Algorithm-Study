{
 "cells": [
  {
   "cell_type": "code",
   "execution_count": null,
   "metadata": {},
   "outputs": [
    {
     "name": "stdout",
     "output_type": "stream",
     "text": [
      "2\n"
     ]
    }
   ],
   "source": [
    "# import math\n",
    "\n",
    "\n",
    "# x1, y1, r1, x2, y2, r2 = map(lambda x:int(x) ,input().split(\" \"))\n",
    "\n",
    "# D = math.sqrt((x1-x2)**2 + (y1-y2)**2)\n",
    "# biggerCircleRadius = max(r1, r2)\n",
    "# smallerCircleRadius = min(r1, r2)\n",
    "\n",
    "# if x1 == x2 and y1 == y2:\n",
    "#     if biggerCircleRadius == smallerCircleRadius:\n",
    "#         print(-1)\n",
    "#     else:\n",
    "#         print(0)\n",
    "# else:\n",
    "#     if biggerCircleRadius < D: #outside\n",
    "#         if biggerCircleRadius + smallerCircleRadius == D:\n",
    "#             print(1)\n",
    "#         elif biggerCircleRadius + smallerCircleRadius < D:\n",
    "#             print(0)\n",
    "#         elif biggerCircleRadius + smallerCircleRadius > D:\n",
    "#             print(2)\n",
    "#     elif biggerCircleRadius > D: #inside\n",
    "#         if biggerCircleRadius-D == smallerCircleRadius:\n",
    "#             print(1)\n",
    "#         elif biggerCircleRadius-D > smallerCircleRadius:\n",
    "#             print(0)\n",
    "#         elif biggerCircleRadius-D < smallerCircleRadius:\n",
    "#             print(2)\n",
    "#     elif biggerCircleRadius == D: #on\n",
    "#         print(2)\n",
    "\n"
   ]
  },
  {
   "cell_type": "code",
   "execution_count": 20,
   "metadata": {},
   "outputs": [
    {
     "name": "stdout",
     "output_type": "stream",
     "text": [
      "2\n"
     ]
    }
   ],
   "source": [
    "import math\n",
    "\n",
    "x1, y1, r1, x2, y2, r2 = map(int, input().split())\n",
    "\n",
    "D = math.sqrt((x1 - x2) ** 2 + (y1 - y2) ** 2)\n",
    "\n",
    "if x1 == x2 and y1 == y2:\n",
    "    if r1 == r2:\n",
    "        print(-1)  # 동심원 & 반지름 같음 (무한대)\n",
    "    else:\n",
    "        print(0)   # 동심원이지만 반지름 다름 (접점 없음)\n",
    "else:\n",
    "    if D > r1 + r2:\n",
    "        print(0)   # 외부에 위치함\n",
    "    elif D == r1 + r2:\n",
    "        print(1)   # 외접 (접점 1개)\n",
    "    elif D < abs(r1 - r2):\n",
    "        print(0)   # 한 원이 다른 원 안에 포함됨 (접점 없음)\n",
    "    elif D == abs(r1 - r2):\n",
    "        print(1)   # 내접 (접점 1개)\n",
    "    else:\n",
    "        print(2)   # 두 점에서 만남 (접점 2개)"
   ]
  },
  {
   "cell_type": "markdown",
   "metadata": {},
   "source": [
    "### 정답"
   ]
  },
  {
   "cell_type": "code",
   "execution_count": 22,
   "metadata": {},
   "outputs": [
    {
     "name": "stdout",
     "output_type": "stream",
     "text": [
      "0\n",
      "0\n",
      "0\n"
     ]
    }
   ],
   "source": [
    "import math\n",
    "\n",
    "T = int(input())\n",
    "\n",
    "for _ in range(T):\n",
    "    x1, y1, r1, x2, y2, r2 = list(map(int, input().split()))\n",
    "    \n",
    "    # 두 원의 중심 사이의 거리\n",
    "    dis = math.sqrt((x1 - x2)**2 + (y1 - y2)**2)\n",
    "    \n",
    "    if dis == 0:    # 두 원의 중심이 같을 경우\n",
    "        if r1 == r2: # 두 원의 크기가 같아 겹치는 경우\n",
    "            print(-1)\n",
    "        else:                     # 한 원이 다른 원 안에 들어가 있는 경우\n",
    "            print(0)\n",
    "    else:            # 두 원의 중심이 다를 경우\n",
    "        if r1+r2 == dis or abs(r2-r1) == dis:\n",
    "            print(1)\n",
    "        elif ((abs(r1-r2) < dis) and (dis < r1+r2)):\n",
    "            print(2)\n",
    "        else:\n",
    "            print(0)"
   ]
  },
  {
   "cell_type": "code",
   "execution_count": null,
   "metadata": {},
   "outputs": [],
   "source": []
  }
 ],
 "metadata": {
  "kernelspec": {
   "display_name": "Python 3 (ipykernel)",
   "language": "python",
   "name": "python3"
  },
  "language_info": {
   "codemirror_mode": {
    "name": "ipython",
    "version": 3
   },
   "file_extension": ".py",
   "mimetype": "text/x-python",
   "name": "python",
   "nbconvert_exporter": "python",
   "pygments_lexer": "ipython3",
   "version": "3.12.4"
  }
 },
 "nbformat": 4,
 "nbformat_minor": 2
}
