{
 "cells": [
  {
   "cell_type": "code",
   "execution_count": 45,
   "metadata": {},
   "outputs": [],
   "source": [
    "def solution(schedules, timelogs, startday):\n",
    "    emps = len(schedules)\n",
    "    answer = 0\n",
    "    for i in range(emps):\n",
    "        temp = isPoint(schedules[i], timelogs[i], startday)\n",
    "        answer += temp\n",
    "        print(\"Done\\n\")\n",
    "    \n",
    "    return answer\n",
    "\n",
    "def isPoint(schedule, timelog, startday):\n",
    "    sHour = schedule//100\n",
    "    sMinute = schedule%100 + 10\n",
    "    \n",
    "    if sMinute>=60:\n",
    "        sMinute = sMinute - 60\n",
    "        sHour += 1\n",
    "        if sHour >= 24: sHour = 0\n",
    "    \n",
    "    validHour = sMinute + (sHour*100)\n",
    "    \n",
    "    for i in range(7):\n",
    "        startday %= 7\n",
    "        print(\"startday: \", startday)\n",
    "        if startday == 0 or startday == 6: \n",
    "            print(\"skip\")\n",
    "            startday += 1\n",
    "            continue\n",
    "        if validHour < timelog[i]: \n",
    "            print(validHour, timelog[i], startday, \"here\")\n",
    "            return 0\n",
    "        startday += 1\n",
    "    return 1\n",
    "    "
   ]
  },
  {
   "cell_type": "code",
   "execution_count": null,
   "metadata": {},
   "outputs": [],
   "source": []
  }
 ],
 "metadata": {
  "kernelspec": {
   "display_name": "Python 3 (ipykernel)",
   "language": "python",
   "name": "python3"
  },
  "language_info": {
   "codemirror_mode": {
    "name": "ipython",
    "version": 3
   },
   "file_extension": ".py",
   "mimetype": "text/x-python",
   "name": "python",
   "nbconvert_exporter": "python",
   "pygments_lexer": "ipython3",
   "version": "3.12.4"
  }
 },
 "nbformat": 4,
 "nbformat_minor": 2
}
