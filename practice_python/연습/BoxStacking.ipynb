{
 "cells": [
  {
   "cell_type": "code",
   "execution_count": 46,
   "metadata": {},
   "outputs": [],
   "source": [
    "from collections import deque\n",
    "\n",
    "def solution(n, w, num):\n",
    "    lines = n//1 + 1\n",
    "    stacks = deque()\n",
    "    \n",
    "    tRow = getNumRow(w, num)\n",
    "    tCol = getNumCol(tRow,w, num)\n",
    "    \n",
    "    degrees = [(w-tCol)*2 - 1, (tCol+1)*2-1]\n",
    "    \n",
    "    answer = 1\n",
    "    \n",
    "    while(True):\n",
    "        if num + degrees[tRow%2] <= n:\n",
    "            answer += 1\n",
    "            num += degrees[tRow%2]\n",
    "            tRow += 1\n",
    "        else:\n",
    "            break\n",
    "    return answer\n",
    "\n",
    "# num의 Row 찾기\n",
    "def getNumRow(w, num):\n",
    "    r = 0\n",
    "    while(True):\n",
    "        if (r+1)*w >= num:\n",
    "            break\n",
    "        r += 1\n",
    "    return r\n",
    "\n",
    "# num의 Col 찾기\n",
    "def getNumCol(row,w, num):\n",
    "    if(row%2 == 1):\n",
    "        return abs((row+1)*w - num)\n",
    "    else:\n",
    "        return (w-1) - abs((abs((row+1)*w - num)))\n",
    "    \n"
   ]
  },
  {
   "cell_type": "code",
   "execution_count": null,
   "metadata": {},
   "outputs": [],
   "source": []
  }
 ],
 "metadata": {
  "kernelspec": {
   "display_name": "Python 3 (ipykernel)",
   "language": "python",
   "name": "python3"
  },
  "language_info": {
   "codemirror_mode": {
    "name": "ipython",
    "version": 3
   },
   "file_extension": ".py",
   "mimetype": "text/x-python",
   "name": "python",
   "nbconvert_exporter": "python",
   "pygments_lexer": "ipython3",
   "version": "3.12.4"
  }
 },
 "nbformat": 4,
 "nbformat_minor": 2
}
