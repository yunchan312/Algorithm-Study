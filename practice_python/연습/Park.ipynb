{
 "cells": [
  {
   "cell_type": "code",
   "execution_count": 1,
   "metadata": {},
   "outputs": [],
   "source": [
    "def solution(mats, park):\n",
    "    print(mats, end='\\n')\n",
    "    print(park)\n",
    "    answer = 0\n",
    "    return answer"
   ]
  },
  {
   "cell_type": "code",
   "execution_count": 2,
   "metadata": {},
   "outputs": [
    {
     "name": "stdout",
     "output_type": "stream",
     "text": [
      "[5, 3, 2]\n",
      "[['A', 'A', '-1', 'B', 'B', 'B', 'B', '-1'], ['A', 'A', '-1', 'B', 'B', 'B', 'B', '-1'], ['-1', '-1', '-1', '-1', '-1', '-1', '-1', '-1'], ['D', 'D', '-1', '-1', '-1', '-1', 'E', '-1'], ['D', 'D', '-1', '-1', '-1', '-1', '-1', 'F'], ['D', 'D', '-1', '-1', '-1', '-1', 'E', '-1']]\n"
     ]
    },
    {
     "data": {
      "text/plain": [
       "0"
      ]
     },
     "execution_count": 2,
     "metadata": {},
     "output_type": "execute_result"
    }
   ],
   "source": [
    "solution([5,3,2],[[\"A\", \"A\", \"-1\", \"B\", \"B\", \"B\", \"B\", \"-1\"], [\"A\", \"A\", \"-1\", \"B\", \"B\", \"B\", \"B\", \"-1\"], [\"-1\", \"-1\", \"-1\", \"-1\", \"-1\", \"-1\", \"-1\", \"-1\"], [\"D\", \"D\", \"-1\", \"-1\", \"-1\", \"-1\", \"E\", \"-1\"], [\"D\", \"D\", \"-1\", \"-1\", \"-1\", \"-1\", \"-1\", \"F\"], [\"D\", \"D\", \"-1\", \"-1\", \"-1\", \"-1\", \"E\", \"-1\"]])"
   ]
  },
  {
   "cell_type": "code",
   "execution_count": null,
   "metadata": {},
   "outputs": [],
   "source": []
  }
 ],
 "metadata": {
  "kernelspec": {
   "display_name": "Python 3 (ipykernel)",
   "language": "python",
   "name": "python3"
  },
  "language_info": {
   "codemirror_mode": {
    "name": "ipython",
    "version": 3
   },
   "file_extension": ".py",
   "mimetype": "text/x-python",
   "name": "python",
   "nbconvert_exporter": "python",
   "pygments_lexer": "ipython3",
   "version": "3.12.4"
  }
 },
 "nbformat": 4,
 "nbformat_minor": 2
}
