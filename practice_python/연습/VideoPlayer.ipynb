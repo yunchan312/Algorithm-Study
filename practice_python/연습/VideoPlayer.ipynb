{
 "cells": [
  {
   "cell_type": "code",
   "execution_count": 193,
   "metadata": {},
   "outputs": [],
   "source": [
    "def solution(video_len, pos, op_start, op_end, commands):\n",
    "    answer = ''\n",
    "    pos_min, pos_sec = isOpening(pos, op_start, op_end)\n",
    "    print(pos_min, pos_sec)\n",
    "\n",
    "    video_len_min, video_len_sec = video_len.split(\":\")\n",
    "    \n",
    "    for command in commands:\n",
    "        if command == \"prev\":\n",
    "            pos_sec = int(pos_sec) - 10\n",
    "            pos_min = int(pos_min)\n",
    "            if pos_sec < 0:\n",
    "                pos_min -= 1\n",
    "                pos_sec += 60\n",
    "                if pos_min < 0:\n",
    "                    pos_min = '00'\n",
    "                    pos_sec = '00'\n",
    "\n",
    "        elif command == \"next\": \n",
    "            pos_sec = int(pos_sec) + 10\n",
    "            pos_min = int(pos_min)\n",
    "\n",
    "            if pos_sec >= 60:\n",
    "                pos_min += 1\n",
    "                pos_sec -= 60\n",
    "            if pos_min > int(video_len_min):\n",
    "                pos_min = int(video_len_min)\n",
    "                pos_sec = int(video_len_sec)\n",
    "            if pos_min == int(video_len_min) and pos_sec >= int(video_len_sec):\n",
    "                pos_min = int(video_len_min)\n",
    "                pos_sec = int(video_len_sec)\n",
    "\n",
    "                \n",
    "        pos_min, pos_sec = isOpening(str(pos_min) + \":\" + str(pos_sec), op_start, op_end)\n",
    "        \n",
    "    answer = str(pos_min).zfill(2) + \":\" + str(pos_sec).zfill(2)\n",
    "\n",
    "        \n",
    "    return answer\n",
    "\n",
    "def isOpening(pos, op_start, op_end):\n",
    "    \n",
    "    pos_min, pos_sec = pos.split(\":\")\n",
    "    op_start_min, op_start_sec = op_start.split(\":\")\n",
    "    op_end_min, op_end_sec = op_end.split(\":\")\n",
    "\n",
    "    \n",
    "    if int(pos_min) > int(op_start_min) and int(pos_min) < int(op_end_min):\n",
    "        return op_end_min, op_end_sec\n",
    "    elif int(pos_min) == int(op_start_min):\n",
    "        if int(pos_sec) >= int(op_start_sec):\n",
    "            return op_end_min, op_end_sec\n",
    "    elif int(pos_min) == int(op_end_min):\n",
    "        if int(pos_sec) <= int(op_end_sec):\n",
    "            return op_end_min, op_end_sec\n",
    "    return pos_min, pos_sec\n",
    "    "
   ]
  },
  {
   "cell_type": "code",
   "execution_count": 195,
   "metadata": {},
   "outputs": [
    {
     "name": "stdout",
     "output_type": "stream",
     "text": [
      "00 05\n"
     ]
    },
    {
     "data": {
      "text/plain": [
       "'07:55'"
      ]
     },
     "execution_count": 195,
     "metadata": {},
     "output_type": "execute_result"
    }
   ],
   "source": [
    "solution(\"10:55\",\t\"00:05\",\t\"00:15\",\t\"06:55\"\t,[\"prev\", \"next\", \"next\",\"next\",\"next\",\"next\",\"next\",\"next\",\"next\",])"
   ]
  },
  {
   "cell_type": "markdown",
   "metadata": {},
   "source": [
    "video_len\tpos     op_start\top_end\tcommands"
   ]
  },
  {
   "cell_type": "code",
   "execution_count": 196,
   "metadata": {},
   "outputs": [
    {
     "name": "stdout",
     "output_type": "stream",
     "text": [
      "04 07\n"
     ]
    },
    {
     "data": {
      "text/plain": [
       "'04:07'"
      ]
     },
     "execution_count": 196,
     "metadata": {},
     "output_type": "execute_result"
    }
   ],
   "source": [
    "solution(\"07:22\", \"04:05\", \"03:15\", \"04:07\", [\"prev\",\"prev\",\"prev\",\"prev\",\"prev\",\"prev\",\"prev\",\"prev\",\"prev\",\"prev\",\"prev\",\"prev\",\"prev\",\"prev\",\"prev\",\"prev\",\"prev\",\"prev\",\"prev\",\"prev\",\"prev\",\"prev\",\"prev\",\"prev\",\"prev\",\"prev\",\"prev\",\"prev\",\"prev\",\"prev\",\"prev\",\"prev\",\"prev\",\"prev\"])"
   ]
  },
  {
   "cell_type": "code",
   "execution_count": null,
   "metadata": {},
   "outputs": [],
   "source": []
  }
 ],
 "metadata": {
  "kernelspec": {
   "display_name": "Python 3 (ipykernel)",
   "language": "python",
   "name": "python3"
  },
  "language_info": {
   "codemirror_mode": {
    "name": "ipython",
    "version": 3
   },
   "file_extension": ".py",
   "mimetype": "text/x-python",
   "name": "python",
   "nbconvert_exporter": "python",
   "pygments_lexer": "ipython3",
   "version": "3.12.4"
  }
 },
 "nbformat": 4,
 "nbformat_minor": 2
}
