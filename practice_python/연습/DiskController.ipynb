{
 "cells": [
  {
   "cell_type": "code",
   "execution_count": null,
   "metadata": {},
   "outputs": [],
   "source": [
    "import heapq as h\n",
    "\n",
    "def solution(jobs):\n",
    "    answer = 0\n",
    "    sortedByArrivalTime(jobs)\n",
    "    \n",
    "    return answer\n",
    "\n",
    "def sortedByArrivalTime(jobs):\n",
    "    idx = [i for i in range(len(jobs))]\n",
    "    temp = []\n",
    "    for i in idx:\n",
    "        jobs[i][0]\n",
    "        h.heappush(temp, jobs[i][0])"
   ]
  },
  {
   "cell_type": "code",
   "execution_count": 55,
   "metadata": {},
   "outputs": [
    {
     "name": "stdout",
     "output_type": "stream",
     "text": [
      "[0, 1, 2]\n"
     ]
    },
    {
     "data": {
      "text/plain": [
       "0"
      ]
     },
     "execution_count": 55,
     "metadata": {},
     "output_type": "execute_result"
    }
   ],
   "source": [
    "solution([[0,3],[1,9],[2,6]])"
   ]
  },
  {
   "cell_type": "markdown",
   "metadata": {},
   "source": [
    "### Simulator version"
   ]
  },
  {
   "cell_type": "code",
   "execution_count": null,
   "metadata": {},
   "outputs": [],
   "source": [
    "from collections import deque\n",
    "import heapq as hq\n",
    "\n",
    "def solution(jobs):\n",
    "    answer = 0\n",
    "    jobs = deque(jobs)\n",
    "    waitingQ = deque([])\n",
    "    index = deque([i for i in range(len(jobs))])\n",
    "    doneCount = 0\n",
    "    turnaround = len(jobs)\n",
    "    time = 0\n",
    "\n",
    "    while(True):\n",
    "        if doneCount >= turnaround:\n",
    "            break\n",
    "        # 도착 시간에 따라서 추가하기\n",
    "        for idx in index:\n",
    "            if jobs[idx][0] <= time:\n",
    "                jobs.\n",
    "                waitingQ.append(jobs[idx])\n",
    "\n",
    "            \n",
    "    \n",
    "\n",
    "    return 0"
   ]
  },
  {
   "cell_type": "code",
   "execution_count": 57,
   "metadata": {},
   "outputs": [
    {
     "data": {
      "text/plain": [
       "1"
      ]
     },
     "execution_count": 57,
     "metadata": {},
     "output_type": "execute_result"
    }
   ],
   "source": [
    "a = [1,12,3,4,5]\n",
    "a.index(max(a))"
   ]
  },
  {
   "cell_type": "code",
   "execution_count": null,
   "metadata": {},
   "outputs": [],
   "source": []
  }
 ],
 "metadata": {
  "kernelspec": {
   "display_name": "Python 3 (ipykernel)",
   "language": "python",
   "name": "python3"
  },
  "language_info": {
   "codemirror_mode": {
    "name": "ipython",
    "version": 3
   },
   "file_extension": ".py",
   "mimetype": "text/x-python",
   "name": "python",
   "nbconvert_exporter": "python",
   "pygments_lexer": "ipython3",
   "version": "3.12.4"
  }
 },
 "nbformat": 4,
 "nbformat_minor": 2
}
