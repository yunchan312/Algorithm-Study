{
 "cells": [
  {
   "cell_type": "markdown",
   "metadata": {},
   "source": [
    "### 시간 fucking 초과"
   ]
  },
  {
   "cell_type": "code",
   "execution_count": 1,
   "metadata": {},
   "outputs": [
    {
     "name": "stdout",
     "output_type": "stream",
     "text": [
      "abdx\n"
     ]
    }
   ],
   "source": [
    "from collections import deque\n",
    "\n",
    "target = deque(input())\n",
    "times = int(input())\n",
    "cursor = len(target)\n",
    "\n",
    "for _ in range(times):\n",
    "    commands = input().split(\" \")\n",
    "    if commands[0] == \"L\":\n",
    "        if cursor > 0:\n",
    "            cursor -= 1\n",
    "    if commands[0] == \"D\":\n",
    "        if cursor < len(target):\n",
    "            cursor += 1\n",
    "    if commands[0] == \"B\":\n",
    "        if cursor-1 >= 0:\n",
    "            del target[cursor-1]\n",
    "            cursor -= 1\n",
    "    if commands[0] == \"P\":\n",
    "        target.insert(cursor, commands[1])\n",
    "        cursor += 1\n",
    "print(\"\".join(target))"
   ]
  },
  {
   "cell_type": "markdown",
   "metadata": {},
   "source": [
    "## 수치.. 구글링을 해버렸다..\n",
    "구글링에서 나온 방식은 지렸다. 바로 stack 두개를 사용하는 것이었다. 정말 무릎을 탁! 하고 치고 말았다."
   ]
  },
  {
   "cell_type": "code",
   "execution_count": 16,
   "metadata": {},
   "outputs": [
    {
     "ename": "ValueError",
     "evalue": "invalid literal for int() with base 10: ''",
     "output_type": "error",
     "traceback": [
      "\u001b[0;31m---------------------------------------------------------------------------\u001b[0m",
      "\u001b[0;31mValueError\u001b[0m                                Traceback (most recent call last)",
      "Cell \u001b[0;32mIn[16], line 3\u001b[0m\n\u001b[1;32m      1\u001b[0m cursorLeft\u001b[38;5;241m=\u001b[39m deque(\u001b[38;5;28minput\u001b[39m())\n\u001b[1;32m      2\u001b[0m cursorRight \u001b[38;5;241m=\u001b[39m deque([])\n\u001b[0;32m----> 3\u001b[0m times \u001b[38;5;241m=\u001b[39m \u001b[38;5;28mint\u001b[39m(\u001b[38;5;28minput\u001b[39m())\n\u001b[1;32m      5\u001b[0m \u001b[38;5;28;01mfor\u001b[39;00m _ \u001b[38;5;129;01min\u001b[39;00m \u001b[38;5;28mrange\u001b[39m(times):\n\u001b[1;32m      6\u001b[0m     commands \u001b[38;5;241m=\u001b[39m \u001b[38;5;28minput\u001b[39m()\u001b[38;5;241m.\u001b[39msplit(\u001b[38;5;124m\"\u001b[39m\u001b[38;5;124m \u001b[39m\u001b[38;5;124m\"\u001b[39m)\n",
      "\u001b[0;31mValueError\u001b[0m: invalid literal for int() with base 10: ''"
     ]
    }
   ],
   "source": [
    "cursorLeft= deque(input())\n",
    "cursorRight = deque([])\n",
    "times = int(input())\n",
    "\n",
    "for _ in range(times):\n",
    "    commands = input().split(\" \")\n",
    "    if commands[0] == \"L\":\n",
    "        if len(cursorLeft) > 0:\n",
    "            cursorRight.appendleft(cursorLeft.pop())\n",
    "    elif commands[0] == \"D\":\n",
    "        if len(cursorRight) > 0:\n",
    "            cursorLeft.append(cursorRight.popleft())\n",
    "    elif commands[0] == \"B\":\n",
    "        if len(cursorLeft) > 0:\n",
    "            cursorLeft.pop()\n",
    "    if commands[0] == \"P\":\n",
    "        cursorLeft.append(commands[1])\n",
    "print(\"\".join(cursorLeft) + \"\".join(cursorRight))"
   ]
  },
  {
   "cell_type": "code",
   "execution_count": 6,
   "metadata": {},
   "outputs": [
    {
     "name": "stdout",
     "output_type": "stream",
     "text": [
      "yxz\n"
     ]
    }
   ],
   "source": [
    "print(\"\".join(cursorLeft) + \"\".join(cursorRight))"
   ]
  },
  {
   "cell_type": "code",
   "execution_count": null,
   "metadata": {},
   "outputs": [],
   "source": []
  },
  {
   "cell_type": "code",
   "execution_count": null,
   "metadata": {},
   "outputs": [],
   "source": []
  }
 ],
 "metadata": {
  "kernelspec": {
   "display_name": "Python 3 (ipykernel)",
   "language": "python",
   "name": "python3"
  },
  "language_info": {
   "codemirror_mode": {
    "name": "ipython",
    "version": 3
   },
   "file_extension": ".py",
   "mimetype": "text/x-python",
   "name": "python",
   "nbconvert_exporter": "python",
   "pygments_lexer": "ipython3",
   "version": "3.12.4"
  }
 },
 "nbformat": 4,
 "nbformat_minor": 2
}
