{
 "cells": [
  {
   "cell_type": "markdown",
   "metadata": {},
   "source": [
    "##### 바~로 시간초과"
   ]
  },
  {
   "cell_type": "code",
   "execution_count": null,
   "metadata": {},
   "outputs": [
    {
     "name": "stdout",
     "output_type": "stream",
     "text": [
      "ans: 4\n"
     ]
    }
   ],
   "source": [
    "def MakeOne(n, count):\n",
    "    if n == 1: return count\n",
    "    if n%3 == 0: return min(MakeOne(n/3, count+1),MakeOne(n-1, count+1))\n",
    "    if n%2 == 0: return min(MakeOne(n/2, count+1), MakeOne(n-1, count+1))\n",
    "    if n%2 != 0 and n%3 !=0 : return MakeOne(n-1, count+1)\n",
    "\n",
    "n = int(input())\n",
    "print(MakeOne(n, 0))"
   ]
  },
  {
   "cell_type": "markdown",
   "metadata": {},
   "source": [
    "## 역시 DP로 풀어야 하는 것인가?\n",
    "\n",
    "바로 정답 해부럿어~"
   ]
  },
  {
   "cell_type": "code",
   "execution_count": 54,
   "metadata": {},
   "outputs": [
    {
     "name": "stdout",
     "output_type": "stream",
     "text": [
      "3\n"
     ]
    }
   ],
   "source": [
    "INF = float(\"inf\")\n",
    "\n",
    "dp = [0, 0, 1, 1]\n",
    "\n",
    "n = int(input())\n",
    "for i in range(4, n+1):\n",
    "    C1, C2, C3 = INF,INF,INF\n",
    "    if i%3 == 0:\n",
    "        C3 = 1+dp[int(i/3)]\n",
    "    if i%2 == 0:\n",
    "        C2 = 1+dp[int(i/2)]\n",
    "    C1 = 1+dp[int(i-1)]\n",
    "    dp.append(min(C1,C2,C3))\n",
    "print(dp[n])\n",
    "    "
   ]
  }
 ],
 "metadata": {
  "kernelspec": {
   "display_name": "Python 3 (ipykernel)",
   "language": "python",
   "name": "python3"
  },
  "language_info": {
   "codemirror_mode": {
    "name": "ipython",
    "version": 3
   },
   "file_extension": ".py",
   "mimetype": "text/x-python",
   "name": "python",
   "nbconvert_exporter": "python",
   "pygments_lexer": "ipython3",
   "version": "3.12.4"
  }
 },
 "nbformat": 4,
 "nbformat_minor": 2
}
