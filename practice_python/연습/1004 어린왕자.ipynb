{
 "cells": [
  {
   "cell_type": "code",
   "execution_count": null,
   "metadata": {},
   "outputs": [],
   "source": [
    "times = int(input())\n",
    "\n",
    "def isInCircle(Cx, Cy, r, Dx, Dy):\n",
    "    if (Dx-Cx) ** 2 + (Dy-Cy) ** 2 < r*r: return 1\n",
    "    else: return 0\n",
    "\n",
    "for _ in range(times):\n",
    "    Dx, Dy, Lx, Ly = map(int, input().split(\" \"))\n",
    "    count = 0\n",
    "    circles = int(input())\n",
    "    for _ in range(circles):\n",
    "        Cx, Cy, r = map(int, input().split(\" \"))\n",
    "        if(isInCircle(Cx, Cy, r, Dx, Dy) == 1 and isInCircle(Cx, Cy,r, Lx, Ly) == 1 ):\n",
    "            continue\n",
    "        else:\n",
    "            count += isInCircle(Cx, Cy, r, Dx, Dy)\n",
    "            count += isInCircle(Cx, Cy,r, Lx, Ly)\n",
    "\n",
    "    print(count)"
   ]
  },
  {
   "cell_type": "code",
   "execution_count": null,
   "metadata": {},
   "outputs": [],
   "source": []
  }
 ],
 "metadata": {
  "kernelspec": {
   "display_name": "Python 3 (ipykernel)",
   "language": "python",
   "name": "python3"
  },
  "language_info": {
   "codemirror_mode": {
    "name": "ipython",
    "version": 3
   },
   "file_extension": ".py",
   "mimetype": "text/x-python",
   "name": "python",
   "nbconvert_exporter": "python",
   "pygments_lexer": "ipython3",
   "version": "3.12.4"
  }
 },
 "nbformat": 4,
 "nbformat_minor": 2
}
