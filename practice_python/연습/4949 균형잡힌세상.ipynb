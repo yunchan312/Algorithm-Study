{
 "cells": [
  {
   "cell_type": "code",
   "execution_count": null,
   "metadata": {},
   "outputs": [],
   "source": []
  },
  {
   "cell_type": "code",
   "execution_count": 45,
   "metadata": {},
   "outputs": [
    {
     "name": "stdout",
     "output_type": "stream",
     "text": [
      "yes\n",
      "yes\n",
      "no\n",
      "no\n",
      "no\n",
      "yes\n",
      "yes\n"
     ]
    }
   ],
   "source": [
    "from collections import deque as dq \n",
    "\n",
    "def check(line, stack):\n",
    "    for l in line:\n",
    "        if l == \"(\" or l == \"[\":\n",
    "            stack.append(l)\n",
    "        elif l == \"]\":\n",
    "            if len(stack) > 0:\n",
    "                if stack[-1] == \"[\":\n",
    "                    stack.pop()\n",
    "                else:\n",
    "                    return \"no\"\n",
    "            else: return \"no\"\n",
    "        elif l == \")\":\n",
    "            if len(stack) > 0:\n",
    "                if stack[-1] == \"(\":\n",
    "                    stack.pop()\n",
    "                else:\n",
    "                    return \"no\"\n",
    "            else: return \"no\"\n",
    "    if len(stack) > 0:\n",
    "        return \"no\"\n",
    "    else:\n",
    "        return \"yes\"\n",
    "\n",
    "while(True):\n",
    "    line = input()\n",
    "    if line == \".\":\n",
    "        break\n",
    "    stack = dq([])\n",
    "    print(check(line, stack))\n",
    "\n",
    "\n",
    "\n"
   ]
  },
  {
   "cell_type": "code",
   "execution_count": null,
   "metadata": {},
   "outputs": [],
   "source": []
  },
  {
   "cell_type": "code",
   "execution_count": 38,
   "metadata": {},
   "outputs": [
    {
     "data": {
      "text/plain": [
       "0"
      ]
     },
     "execution_count": 38,
     "metadata": {},
     "output_type": "execute_result"
    }
   ],
   "source": [
    "s = dq([])\n",
    "len(s)"
   ]
  },
  {
   "cell_type": "code",
   "execution_count": null,
   "metadata": {},
   "outputs": [],
   "source": []
  }
 ],
 "metadata": {
  "kernelspec": {
   "display_name": "Python 3 (ipykernel)",
   "language": "python",
   "name": "python3"
  },
  "language_info": {
   "codemirror_mode": {
    "name": "ipython",
    "version": 3
   },
   "file_extension": ".py",
   "mimetype": "text/x-python",
   "name": "python",
   "nbconvert_exporter": "python",
   "pygments_lexer": "ipython3",
   "version": "3.12.4"
  }
 },
 "nbformat": 4,
 "nbformat_minor": 2
}
